{
  "nbformat": 4,
  "nbformat_minor": 0,
  "metadata": {
    "colab": {
      "provenance": []
    },
    "kernelspec": {
      "name": "python3",
      "display_name": "Python 3"
    },
    "language_info": {
      "name": "python"
    }
  },
  "cells": [
    {
      "cell_type": "code",
      "execution_count": null,
      "metadata": {
        "id": "QWQ4FbFxpD_K"
      },
      "outputs": [],
      "source": [
        "import torch\n",
        "import torch.nn.functional as F\n",
        "import matplotlib.pyplot as plt\n",
        "import pandas as pd\n",
        "from torch.utils.data import Dataset, DataLoader\n",
        "from sklearn.datasets import load_iris\n",
        "from sklearn.model_selection import train_test_split"
      ]
    },
    {
      "cell_type": "code",
      "source": [
        "class IrisDataset(Dataset):\n",
        "  def __init__(self, data, labels):\n",
        "    self.data = torch.tensor(data,dtype=torch.float32)\n",
        "    self.labels = torch.tensor(labels,dtype=torch.long)\n",
        "\n",
        "  def __len__(self):\n",
        "    return len(self.data)\n",
        "\n",
        "  def __getitem__(self, idx):\n",
        "    return self.data[idx], self.labels[idx]"
      ],
      "metadata": {
        "id": "Aj6q_Or1qXZ6"
      },
      "execution_count": null,
      "outputs": []
    },
    {
      "cell_type": "code",
      "source": [
        "iris = load_iris()\n",
        "data = iris.data\n",
        "labels = iris.target\n",
        "\n",
        "X_train, X_test, y_train, y_test = train_test_split(data, labels, test_size=0.3, random_state=12)\n",
        "\n",
        "train_dataset = IrisDataset(X_train, y_train)\n",
        "test_dataset = IrisDataset(X_test, y_test)\n",
        "\n",
        "train_loader = DataLoader(train_dataset, batch_size=10, shuffle=True)\n",
        "test_loader = DataLoader(test_dataset, batch_size=10, shuffle=False)"
      ],
      "metadata": {
        "id": "lo470Yy9rxS_"
      },
      "execution_count": null,
      "outputs": []
    },
    {
      "cell_type": "code",
      "source": [
        "# Normalize the data\n",
        "mu, sigma = X_train.mean(axis=0), X_train.std(axis=0)\n",
        "X_train = (X_train - mu)/sigma\n",
        "X_test = (X_test - mu)/sigma"
      ],
      "metadata": {
        "id": "m00Wz8eb3uNQ"
      },
      "execution_count": null,
      "outputs": []
    },
    {
      "cell_type": "code",
      "source": [
        "class SoftmaxRegression(torch.nn.Module):\n",
        "  def __init__(self, num_features, num_classes):\n",
        "    super(SoftmaxRegression, self).__init__()\n",
        "    self.linear = torch.nn.Linear(num_features, num_classes)\n",
        "    self.linear.weight.detach().zero_()\n",
        "    self.linear.bias.detach().zero_()\n",
        "\n",
        "  def forward(self,x):\n",
        "    logits = self.linear(x)\n",
        "    probas = F.softmax(logits, dim=1)\n",
        "    return logits, probas"
      ],
      "metadata": {
        "id": "KUL_TEVSuSCf"
      },
      "execution_count": null,
      "outputs": []
    },
    {
      "cell_type": "code",
      "source": [
        "DEVICE = torch.device(\"cuda:0\" if torch.cuda.is_available() else \"cpu\")"
      ],
      "metadata": {
        "id": "C3G308O8xkhH"
      },
      "execution_count": null,
      "outputs": []
    },
    {
      "cell_type": "code",
      "source": [
        "model = SoftmaxRegression(num_features=4, num_classes=3).to(DEVICE)\n",
        "optimizer = torch.optim.SGD(model.parameters(), lr=0.01)"
      ],
      "metadata": {
        "id": "m7j3LMwswZes"
      },
      "execution_count": null,
      "outputs": []
    },
    {
      "cell_type": "code",
      "source": [
        "def comp_accuracy(true_labels, pred_labels):\n",
        "  accuracy = torch.sum(true_labels.view(-1).float() == pred_labels.float()).item() / true_labels.size(0)\n",
        "  return accuracy"
      ],
      "metadata": {
        "id": "970TgTsHxM4N"
      },
      "execution_count": null,
      "outputs": []
    },
    {
      "cell_type": "code",
      "source": [
        "X_train = torch.tensor(X_train, dtype=torch.float32).to(DEVICE)\n",
        "y_train = torch.tensor(y_train, dtype=torch.long).to(DEVICE)\n",
        "X_test = torch.tensor(X_test, dtype=torch.float32).to(DEVICE)\n",
        "y_test = torch.tensor(y_test, dtype=torch.long).to(DEVICE)"
      ],
      "metadata": {
        "id": "pLNCI0IUx2kn"
      },
      "execution_count": null,
      "outputs": []
    },
    {
      "cell_type": "code",
      "source": [
        "num_epochs = 100\n",
        "train_losses = []\n",
        "for epoch in range(num_epochs):\n",
        "\n",
        "  # Compute outputs\n",
        "  logits, probas = model(X_train)\n",
        "\n",
        "  # Compute gradients\n",
        "  cost = F.cross_entropy(logits, y_train.long())\n",
        "  optimizer.zero_grad()\n",
        "  cost.backward()\n",
        "\n",
        "  # Update weights\n",
        "  optimizer.step()\n",
        "\n",
        "  train_losses.append(cost.item())\n",
        "\n",
        "  # Logging\n",
        "  logits, probas = model(X_train)\n",
        "  acc = comp_accuracy(y_train, torch.argmax(probas, dim=1))\n",
        "  print('Epoch: %03d' % (epoch + 1), end=\"\")\n",
        "  print(' | Train ACC: %.3f' % acc, end=\"\")\n",
        "  print(' | Cost: %.3f' % F.cross_entropy(logits, y_train.long()))"
      ],
      "metadata": {
        "colab": {
          "base_uri": "https://localhost:8080/"
        },
        "id": "3B9OcFJwyxjE",
        "outputId": "87688c9b-ea7e-4ada-e8b5-005f4fbf0e1d"
      },
      "execution_count": null,
      "outputs": [
        {
          "output_type": "stream",
          "name": "stdout",
          "text": [
            "Epoch: 001 | Train ACC: 0.810 | Cost: 1.090\n",
            "Epoch: 002 | Train ACC: 0.810 | Cost: 1.081\n",
            "Epoch: 003 | Train ACC: 0.810 | Cost: 1.072\n",
            "Epoch: 004 | Train ACC: 0.810 | Cost: 1.064\n",
            "Epoch: 005 | Train ACC: 0.810 | Cost: 1.055\n",
            "Epoch: 006 | Train ACC: 0.810 | Cost: 1.047\n",
            "Epoch: 007 | Train ACC: 0.810 | Cost: 1.039\n",
            "Epoch: 008 | Train ACC: 0.810 | Cost: 1.031\n",
            "Epoch: 009 | Train ACC: 0.810 | Cost: 1.023\n",
            "Epoch: 010 | Train ACC: 0.810 | Cost: 1.016\n",
            "Epoch: 011 | Train ACC: 0.810 | Cost: 1.008\n",
            "Epoch: 012 | Train ACC: 0.810 | Cost: 1.001\n",
            "Epoch: 013 | Train ACC: 0.810 | Cost: 0.994\n",
            "Epoch: 014 | Train ACC: 0.810 | Cost: 0.986\n",
            "Epoch: 015 | Train ACC: 0.810 | Cost: 0.980\n",
            "Epoch: 016 | Train ACC: 0.810 | Cost: 0.973\n",
            "Epoch: 017 | Train ACC: 0.810 | Cost: 0.966\n",
            "Epoch: 018 | Train ACC: 0.810 | Cost: 0.959\n",
            "Epoch: 019 | Train ACC: 0.810 | Cost: 0.953\n",
            "Epoch: 020 | Train ACC: 0.810 | Cost: 0.947\n",
            "Epoch: 021 | Train ACC: 0.810 | Cost: 0.940\n",
            "Epoch: 022 | Train ACC: 0.810 | Cost: 0.934\n",
            "Epoch: 023 | Train ACC: 0.810 | Cost: 0.928\n",
            "Epoch: 024 | Train ACC: 0.810 | Cost: 0.922\n",
            "Epoch: 025 | Train ACC: 0.810 | Cost: 0.916\n",
            "Epoch: 026 | Train ACC: 0.810 | Cost: 0.911\n",
            "Epoch: 027 | Train ACC: 0.810 | Cost: 0.905\n",
            "Epoch: 028 | Train ACC: 0.810 | Cost: 0.900\n",
            "Epoch: 029 | Train ACC: 0.810 | Cost: 0.894\n",
            "Epoch: 030 | Train ACC: 0.810 | Cost: 0.889\n",
            "Epoch: 031 | Train ACC: 0.810 | Cost: 0.884\n",
            "Epoch: 032 | Train ACC: 0.810 | Cost: 0.878\n",
            "Epoch: 033 | Train ACC: 0.810 | Cost: 0.873\n",
            "Epoch: 034 | Train ACC: 0.810 | Cost: 0.868\n",
            "Epoch: 035 | Train ACC: 0.810 | Cost: 0.863\n",
            "Epoch: 036 | Train ACC: 0.810 | Cost: 0.859\n",
            "Epoch: 037 | Train ACC: 0.810 | Cost: 0.854\n",
            "Epoch: 038 | Train ACC: 0.810 | Cost: 0.849\n",
            "Epoch: 039 | Train ACC: 0.810 | Cost: 0.845\n",
            "Epoch: 040 | Train ACC: 0.810 | Cost: 0.840\n",
            "Epoch: 041 | Train ACC: 0.810 | Cost: 0.836\n",
            "Epoch: 042 | Train ACC: 0.810 | Cost: 0.832\n",
            "Epoch: 043 | Train ACC: 0.810 | Cost: 0.827\n",
            "Epoch: 044 | Train ACC: 0.810 | Cost: 0.823\n",
            "Epoch: 045 | Train ACC: 0.810 | Cost: 0.819\n",
            "Epoch: 046 | Train ACC: 0.810 | Cost: 0.815\n",
            "Epoch: 047 | Train ACC: 0.810 | Cost: 0.811\n",
            "Epoch: 048 | Train ACC: 0.810 | Cost: 0.807\n",
            "Epoch: 049 | Train ACC: 0.810 | Cost: 0.803\n",
            "Epoch: 050 | Train ACC: 0.810 | Cost: 0.799\n",
            "Epoch: 051 | Train ACC: 0.810 | Cost: 0.795\n",
            "Epoch: 052 | Train ACC: 0.810 | Cost: 0.792\n",
            "Epoch: 053 | Train ACC: 0.810 | Cost: 0.788\n",
            "Epoch: 054 | Train ACC: 0.810 | Cost: 0.785\n",
            "Epoch: 055 | Train ACC: 0.810 | Cost: 0.781\n",
            "Epoch: 056 | Train ACC: 0.810 | Cost: 0.778\n",
            "Epoch: 057 | Train ACC: 0.810 | Cost: 0.774\n",
            "Epoch: 058 | Train ACC: 0.810 | Cost: 0.771\n",
            "Epoch: 059 | Train ACC: 0.810 | Cost: 0.767\n",
            "Epoch: 060 | Train ACC: 0.810 | Cost: 0.764\n",
            "Epoch: 061 | Train ACC: 0.810 | Cost: 0.761\n",
            "Epoch: 062 | Train ACC: 0.810 | Cost: 0.758\n",
            "Epoch: 063 | Train ACC: 0.810 | Cost: 0.755\n",
            "Epoch: 064 | Train ACC: 0.810 | Cost: 0.752\n",
            "Epoch: 065 | Train ACC: 0.810 | Cost: 0.748\n",
            "Epoch: 066 | Train ACC: 0.810 | Cost: 0.745\n",
            "Epoch: 067 | Train ACC: 0.810 | Cost: 0.743\n",
            "Epoch: 068 | Train ACC: 0.810 | Cost: 0.740\n",
            "Epoch: 069 | Train ACC: 0.810 | Cost: 0.737\n",
            "Epoch: 070 | Train ACC: 0.810 | Cost: 0.734\n",
            "Epoch: 071 | Train ACC: 0.810 | Cost: 0.731\n",
            "Epoch: 072 | Train ACC: 0.810 | Cost: 0.728\n",
            "Epoch: 073 | Train ACC: 0.810 | Cost: 0.726\n",
            "Epoch: 074 | Train ACC: 0.810 | Cost: 0.723\n",
            "Epoch: 075 | Train ACC: 0.810 | Cost: 0.720\n",
            "Epoch: 076 | Train ACC: 0.810 | Cost: 0.718\n",
            "Epoch: 077 | Train ACC: 0.810 | Cost: 0.715\n",
            "Epoch: 078 | Train ACC: 0.810 | Cost: 0.713\n",
            "Epoch: 079 | Train ACC: 0.810 | Cost: 0.710\n",
            "Epoch: 080 | Train ACC: 0.810 | Cost: 0.708\n",
            "Epoch: 081 | Train ACC: 0.810 | Cost: 0.705\n",
            "Epoch: 082 | Train ACC: 0.810 | Cost: 0.703\n",
            "Epoch: 083 | Train ACC: 0.810 | Cost: 0.700\n",
            "Epoch: 084 | Train ACC: 0.810 | Cost: 0.698\n",
            "Epoch: 085 | Train ACC: 0.810 | Cost: 0.696\n",
            "Epoch: 086 | Train ACC: 0.810 | Cost: 0.694\n",
            "Epoch: 087 | Train ACC: 0.810 | Cost: 0.691\n",
            "Epoch: 088 | Train ACC: 0.810 | Cost: 0.689\n",
            "Epoch: 089 | Train ACC: 0.810 | Cost: 0.687\n",
            "Epoch: 090 | Train ACC: 0.810 | Cost: 0.685\n",
            "Epoch: 091 | Train ACC: 0.810 | Cost: 0.683\n",
            "Epoch: 092 | Train ACC: 0.810 | Cost: 0.680\n",
            "Epoch: 093 | Train ACC: 0.810 | Cost: 0.678\n",
            "Epoch: 094 | Train ACC: 0.810 | Cost: 0.676\n",
            "Epoch: 095 | Train ACC: 0.810 | Cost: 0.674\n",
            "Epoch: 096 | Train ACC: 0.810 | Cost: 0.672\n",
            "Epoch: 097 | Train ACC: 0.810 | Cost: 0.670\n",
            "Epoch: 098 | Train ACC: 0.810 | Cost: 0.668\n",
            "Epoch: 099 | Train ACC: 0.810 | Cost: 0.666\n",
            "Epoch: 100 | Train ACC: 0.810 | Cost: 0.664\n"
          ]
        }
      ]
    },
    {
      "cell_type": "code",
      "source": [
        "# Plot training loss\n",
        "plt.plot(train_losses)\n",
        "plt.xlabel('Epoch')\n",
        "plt.ylabel('Loss')\n",
        "plt.title('Training Loss over Epochs')\n",
        "plt.show()"
      ],
      "metadata": {
        "colab": {
          "base_uri": "https://localhost:8080/",
          "height": 472
        },
        "id": "wgw8tX2s4xAG",
        "outputId": "7b2cddc2-b893-4118-ff79-7c30a246e40e"
      },
      "execution_count": null,
      "outputs": [
        {
          "output_type": "display_data",
          "data": {
            "text/plain": [
              "<Figure size 640x480 with 1 Axes>"
            ],
            "image/png": "[encoded data removed]"
          },
          "metadata": {}
        }
      ]
    },
    {
      "cell_type": "code",
      "source": [
        "model.eval()\n",
        "with torch.no_grad():\n",
        "    logits, probas = model(X_test)\n",
        "    test_acc = comp_accuracy(y_test, torch.argmax(probas, dim=1))\n",
        "    print('Test Accuracy: %.3f' % (test_acc*100))"
      ],
      "metadata": {
        "colab": {
          "base_uri": "https://localhost:8080/"
        },
        "id": "z-hfz1wa5ZIi",
        "outputId": "8c45a737-44a9-4d01-95f4-e37a126cca21"
      },
      "execution_count": null,
      "outputs": [
        {
          "output_type": "stream",
          "name": "stdout",
          "text": [
            "Test Accuracy: 86.667\n"
          ]
        }
      ]
    }
  ]
}