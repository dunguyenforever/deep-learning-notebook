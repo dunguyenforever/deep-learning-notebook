{
  "nbformat": 4,
  "nbformat_minor": 0,
  "metadata": {
    "colab": {
      "provenance": [],
      "toc_visible": true
    },
    "kernelspec": {
      "name": "python3",
      "display_name": "Python 3"
    },
    "language_info": {
      "name": "python"
    }
  },
  "cells": [
    {
      "cell_type": "code",
      "execution_count": 1,
      "metadata": {
        "colab": {
          "base_uri": "https://localhost:8080/"
        },
        "id": "fLmMKSPGbl1M",
        "outputId": "6cdb68b7-b65a-4f40-90ac-99f5b51e75ba"
      },
      "outputs": [
        {
          "output_type": "stream",
          "name": "stdout",
          "text": [
            "2.2\n"
          ]
        }
      ],
      "source": [
        "x0, x1, x2 = 1., 2., 3.\n",
        "bias, w1, w2 = 0.1, 0.3, 0.5\n",
        "\n",
        "x = [x0, x1, x2]\n",
        "w = [bias, w1, w2]\n",
        "\n",
        "# list comprehensions\n",
        "z = sum(x_i*w_i for x_i, w_i in zip(x, w))\n",
        "print(z)"
      ]
    },
    {
      "cell_type": "code",
      "source": [
        "import numpy as np\n",
        "\n",
        "x_vec, w_vec = np.array(x), np.array(w)\n",
        "\n",
        "z = (x_vec.transpose()).dot(w_vec)\n",
        "print(z)\n",
        "\n",
        "z = x_vec.dot(w_vec)\n",
        "print(z)"
      ],
      "metadata": {
        "colab": {
          "base_uri": "https://localhost:8080/"
        },
        "id": "GSQHuXPOfivK",
        "outputId": "55025424-11cb-4585-f328-32f7b4c9b60d"
      },
      "execution_count": 3,
      "outputs": [
        {
          "output_type": "stream",
          "name": "stdout",
          "text": [
            "2.2\n",
            "2.2\n"
          ]
        }
      ]
    },
    {
      "cell_type": "code",
      "source": [
        "x, w = np.random.rand(100000), np.random.rand(100000)\n",
        "\n",
        "def forloop(x, w):\n",
        "  z = 0.\n",
        "  for i in range(len(x)):\n",
        "    z += x[i] * w[i]\n",
        "  return z\n",
        "\n",
        "def listcomprehension(x, w):\n",
        "  return sum(x_i*w_i for x_i, w_i in zip(x, w))\n",
        "\n",
        "def vectorized(x, w):\n",
        "  return x.dot(w_vec)"
      ],
      "metadata": {
        "id": "nIwDDqjRgCY1"
      },
      "execution_count": 4,
      "outputs": []
    },
    {
      "cell_type": "code",
      "source": [
        "%timeit -r 100 -n 10 forloop(x, w)"
      ],
      "metadata": {
        "colab": {
          "base_uri": "https://localhost:8080/"
        },
        "id": "kokYkO7tg8_M",
        "outputId": "d4b5030c-924f-47da-8833-b2c20b1f8197"
      },
      "execution_count": 5,
      "outputs": [
        {
          "output_type": "stream",
          "name": "stdout",
          "text": [
            "39.4 ms ± 12 ms per loop (mean ± std. dev. of 100 runs, 10 loops each)\n"
          ]
        }
      ]
    },
    {
      "cell_type": "code",
      "source": [
        "%timeit -r 100 -n 10 listcomprehension(x, w)"
      ],
      "metadata": {
        "colab": {
          "base_uri": "https://localhost:8080/"
        },
        "id": "RdgaIZt8g_0O",
        "outputId": "10590441-fb97-4dd3-9fda-dece4ac2259f"
      },
      "execution_count": 6,
      "outputs": [
        {
          "output_type": "stream",
          "name": "stdout",
          "text": [
            "28.5 ms ± 10.3 ms per loop (mean ± std. dev. of 100 runs, 10 loops each)\n"
          ]
        }
      ]
    },
    {
      "cell_type": "code",
      "source": [
        "%timeit -r 100 -n 10 vectorized(x_vec, w_vec)"
      ],
      "metadata": {
        "colab": {
          "base_uri": "https://localhost:8080/"
        },
        "id": "KWKTnZuihEi9",
        "outputId": "6835ff29-01e9-44d1-be33-2a20128daa9a"
      },
      "execution_count": 7,
      "outputs": [
        {
          "output_type": "stream",
          "name": "stdout",
          "text": [
            "The slowest run took 63.61 times longer than the fastest. This could mean that an intermediate result is being cached.\n",
            "2.55 µs ± 7.99 µs per loop (mean ± std. dev. of 100 runs, 10 loops each)\n"
          ]
        }
      ]
    },
    {
      "cell_type": "code",
      "source": [],
      "metadata": {
        "id": "d4IfwqByhLAw"
      },
      "execution_count": null,
      "outputs": []
    }
  ]
}