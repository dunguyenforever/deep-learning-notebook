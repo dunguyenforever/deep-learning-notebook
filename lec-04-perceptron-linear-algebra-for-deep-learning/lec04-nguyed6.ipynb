{
 "cells": [
  {
   "cell_type": "code",
   "execution_count": 11,
   "metadata": {},
   "outputs": [],
   "source": [
    "import torch"
   ]
  },
  {
   "cell_type": "code",
   "execution_count": 12,
   "metadata": {},
   "outputs": [
    {
     "name": "stdout",
     "output_type": "stream",
     "text": [
      "torch.Size([])\n"
     ]
    },
    {
     "data": {
      "text/plain": [
       "torch.float32"
      ]
     },
     "execution_count": 12,
     "metadata": {},
     "output_type": "execute_result"
    }
   ],
   "source": [
    "# OD Tensor\n",
    "tensor0 = torch.tensor(3, dtype=torch.float)\n",
    "print(tensor0.shape)\n",
    "tensor0.dtype"
   ]
  },
  {
   "cell_type": "code",
   "execution_count": 13,
   "metadata": {},
   "outputs": [
    {
     "name": "stdout",
     "output_type": "stream",
     "text": [
      "torch.Size([4])\n"
     ]
    },
    {
     "data": {
      "text/plain": [
       "torch.float32"
      ]
     },
     "execution_count": 13,
     "metadata": {},
     "output_type": "execute_result"
    }
   ],
   "source": [
    "# 1D Tensor\n",
    "tensor1 = torch.tensor([1, 2, 3, 4], dtype=torch.float)\n",
    "print(tensor1.shape)\n",
    "tensor1.dtype"
   ]
  },
  {
   "cell_type": "code",
   "execution_count": 14,
   "metadata": {},
   "outputs": [
    {
     "name": "stdout",
     "output_type": "stream",
     "text": [
      "torch.Size([3, 4])\n"
     ]
    },
    {
     "data": {
      "text/plain": [
       "torch.float32"
      ]
     },
     "execution_count": 14,
     "metadata": {},
     "output_type": "execute_result"
    }
   ],
   "source": [
    "# 2D Tensor\n",
    "tensor2 = torch.tensor([[1, 2, 3, 4], [5, 6, 7,8], [9, 10, 11, 12]], dtype=torch.float)\n",
    "print(tensor2.shape)\n",
    "tensor2.dtype"
   ]
  },
  {
   "cell_type": "code",
   "execution_count": 15,
   "metadata": {},
   "outputs": [
    {
     "name": "stdout",
     "output_type": "stream",
     "text": [
      "torch.Size([2, 2, 3])\n"
     ]
    },
    {
     "data": {
      "text/plain": [
       "torch.float32"
      ]
     },
     "execution_count": 15,
     "metadata": {},
     "output_type": "execute_result"
    }
   ],
   "source": [
    "# 3D Tensor\n",
    "tensor3 = torch.tensor([\n",
    "    [[1, 2, 3], [4, 5, 6]], [[7, 8, 9], [10, 11, 12]]\n",
    "    ], dtype=torch.float)\n",
    "print(tensor3.shape)\n",
    "tensor3.dtype"
   ]
  },
  {
   "cell_type": "code",
   "execution_count": 16,
   "metadata": {},
   "outputs": [
    {
     "name": "stdout",
     "output_type": "stream",
     "text": [
      "torch.Size([2, 2, 2, 2])\n"
     ]
    },
    {
     "data": {
      "text/plain": [
       "torch.float32"
      ]
     },
     "execution_count": 16,
     "metadata": {},
     "output_type": "execute_result"
    }
   ],
   "source": [
    "# 4D Tensor\n",
    "tensor4 = torch.tensor([\n",
    "    [[[1, 2], [3, 4]], [[5, 6], [7, 8]]],\n",
    "    [[[9, 10], [11, 12]], [[13, 14], [15, 16]]]\n",
    "    ], dtype=torch.float)\n",
    "print(tensor4.shape)\n",
    "tensor4.dtype\n"
   ]
  },
  {
   "cell_type": "code",
   "execution_count": 17,
   "metadata": {},
   "outputs": [
    {
     "name": "stdout",
     "output_type": "stream",
     "text": [
      "Shape and data type of 0D Tensor\n",
      "torch.Size([])\n",
      "torch.int32\n",
      "\n",
      "Shape and data type of 1D Tensor\n",
      "torch.Size([4])\n",
      "torch.int32\n",
      "\n",
      "Shape and data type of 2D Tensor\n",
      "torch.Size([3, 4])\n",
      "torch.int32\n",
      "\n",
      "Shape and data type of 3D Tensor\n",
      "torch.Size([2, 2, 3])\n",
      "torch.int32\n",
      "\n",
      "Shape and data type of 4D Tensor\n",
      "torch.Size([2, 2, 2, 2])\n",
      "torch.int32\n"
     ]
    }
   ],
   "source": [
    "# Creating tensors as IntTensors\n",
    "# 0D Tensor\n",
    "\n",
    "print(\"Shape and data type of 0D Tensor\")\n",
    "tensor0_int = torch.tensor(3, dtype=torch.int)\n",
    "print(tensor0_int.shape)\n",
    "print(tensor0_int.dtype)\n",
    "print()\n",
    "\n",
    "# 1D Tensor\n",
    "print(\"Shape and data type of 1D Tensor\")\n",
    "tensor1_int = torch.tensor([1, 2, 3, 4], dtype=torch.int)\n",
    "print(tensor1_int.shape)\n",
    "print(tensor1_int.dtype)\n",
    "print()\n",
    "\n",
    "# 2D Tensor\n",
    "print(\"Shape and data type of 2D Tensor\")\n",
    "tensor2_int = torch.tensor([[1, 2, 3, 4], [5, 6, 7, 8], [9, 10, 11, 12]], dtype=torch.int)\n",
    "print(tensor2_int.shape)\n",
    "print(tensor2_int.dtype)\n",
    "print()\n",
    "\n",
    "# 3D Tensor\n",
    "print(\"Shape and data type of 3D Tensor\")\n",
    "tensor3_int = torch.tensor([\n",
    "    [[1, 2, 3], [4, 5, 6]], [[7, 8, 9], [10, 11, 12]]\n",
    "], dtype=torch.int32)\n",
    "print(tensor3_int.shape)\n",
    "print(tensor3_int.dtype)\n",
    "print()\n",
    "\n",
    "# 4D Tensor\n",
    "print(\"Shape and data type of 4D Tensor\")\n",
    "tensor4_int = torch.tensor([\n",
    "    [[[1, 2], [3, 4]], [[5, 6], [7, 8]]],\n",
    "    [[[9, 10], [11, 12]], [[13, 14], [15, 16]]]\n",
    "], dtype=torch.int)\n",
    "print(tensor4_int.shape)\n",
    "print(tensor4_int.dtype)\n",
    "\n"
   ]
  },
  {
   "cell_type": "code",
   "execution_count": 18,
   "metadata": {},
   "outputs": [
    {
     "name": "stdout",
     "output_type": "stream",
     "text": [
      "The angle between tensor1 and tensor2 is > 90 degrees.\n"
     ]
    }
   ],
   "source": [
    "# Define 1st 1D Tensor\n",
    "tensor1 = torch.tensor([1, 1, 1, 2])\n",
    "# Define 2nd 1D Tensor\n",
    "tensor2 = torch.tensor([-1, -1, -1, -1])\n",
    "\n",
    "# Compare the length of the two tensors\n",
    "if len(tensor1) == len(tensor2):\n",
    "    dot_product = torch.dot(tensor1, tensor2)\n",
    "    if dot_product > 0:\n",
    "        print(\"The angle between tensor1 and tensor2 is < 90 degrees.\")\n",
    "    elif dot_product < 0:\n",
    "        print(\"The angle between tensor1 and tensor2 is > 90 degrees.\")\n",
    "    else:\n",
    "        print(\"The angle between tensor1 and tensor2 is 90 degrees.\")\n",
    "else:\n",
    "    print(\"The length of the two tensors is not equal\")"
   ]
  },
  {
   "cell_type": "code",
   "execution_count": 19,
   "metadata": {},
   "outputs": [
    {
     "name": "stdout",
     "output_type": "stream",
     "text": [
      "True\n"
     ]
    }
   ],
   "source": [
    "print(torch.cuda.is_available())"
   ]
  },
  {
   "cell_type": "code",
   "execution_count": 20,
   "metadata": {},
   "outputs": [
    {
     "name": "stdout",
     "output_type": "stream",
     "text": [
      "tensor([1., 2., 3., 4., 5.], device='cuda:0')\n"
     ]
    }
   ],
   "source": [
    "tensorA = torch.tensor([1, 2, 3, 4, 5], dtype=torch.float) \n",
    "tensorA = tensorA.to(torch.device('cuda:0'))\n",
    "print(tensorA)"
   ]
  },
  {
   "cell_type": "code",
   "execution_count": 21,
   "metadata": {},
   "outputs": [
    {
     "name": "stdout",
     "output_type": "stream",
     "text": [
      "tensor([ 6.,  7.,  8.,  9., 10.])\n"
     ]
    }
   ],
   "source": [
    "tensorB = torch.tensor([6, 7, 8, 9, 10], dtype=torch.float)\n",
    "tensorB = tensorB.to(torch.device('cpu'))\n",
    "print(tensorB)"
   ]
  },
  {
   "cell_type": "code",
   "execution_count": 22,
   "metadata": {},
   "outputs": [
    {
     "ename": "RuntimeError",
     "evalue": "Expected all tensors to be on the same device, but found at least two devices, cuda:0 and cpu! (when checking argument for argument tensor in method wrapper_CUDA__dot)",
     "output_type": "error",
     "traceback": [
      "\u001b[1;31m---------------------------------------------------------------------------\u001b[0m",
      "\u001b[1;31mRuntimeError\u001b[0m                              Traceback (most recent call last)",
      "Cell \u001b[1;32mIn[22], line 1\u001b[0m\n\u001b[1;32m----> 1\u001b[0m dot_product \u001b[38;5;241m=\u001b[39m \u001b[43mtensorA\u001b[49m\u001b[38;5;241;43m.\u001b[39;49m\u001b[43mdot\u001b[49m\u001b[43m(\u001b[49m\u001b[43mtensorB\u001b[49m\u001b[43m)\u001b[49m\n",
      "\u001b[1;31mRuntimeError\u001b[0m: Expected all tensors to be on the same device, but found at least two devices, cuda:0 and cpu! (when checking argument for argument tensor in method wrapper_CUDA__dot)"
     ]
    }
   ],
   "source": [
    "dot_product = tensorA.dot(tensorB)"
   ]
  },
  {
   "cell_type": "markdown",
   "metadata": {},
   "source": [
    "Explanation: Since tensor A is staying on the GPU with CUDA 0, while the tensor B is staying on the CPU, pyTorch cannot perform operations where the data is staying in different places. Normally, we would want to compute on the GPU, then push the result back on the CPU, calculation operations need to stay on one device."
   ]
  },
  {
   "cell_type": "code",
   "execution_count": 45,
   "metadata": {},
   "outputs": [
    {
     "name": "stdout",
     "output_type": "stream",
     "text": [
      "tensor(130., device='cuda:0')\n"
     ]
    }
   ],
   "source": [
    "tensorB = tensorB.to(torch.device('cuda:0'))\n",
    "new_dot_prod = tensorA.dot(tensorB)\n",
    "print(new_dot_prod)"
   ]
  },
  {
   "cell_type": "code",
   "execution_count": null,
   "metadata": {},
   "outputs": [],
   "source": [
    "Explanation: After moving both the tensors to GPU, tensor A and tensor B is staying on CUDA device 0,\n",
    "the dot product can be perform and the final result is now stored on the GPU without any issues. "
   ]
  }
 ],
 "metadata": {
  "kernelspec": {
   "display_name": "Python 3",
   "language": "python",
   "name": "python3"
  },
  "language_info": {
   "codemirror_mode": {
    "name": "ipython",
    "version": 3
   },
   "file_extension": ".py",
   "mimetype": "text/x-python",
   "name": "python",
   "nbconvert_exporter": "python",
   "pygments_lexer": "ipython3",
   "version": "3.12.8"
  }
 },
 "nbformat": 4,
 "nbformat_minor": 2
}
